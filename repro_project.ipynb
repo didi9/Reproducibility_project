{
 "cells": [
  {
   "cell_type": "markdown",
   "metadata": {},
   "source": [
    "R Code pulled from https://www.statmethods.net/advgraphs/ggplot2.html"
   ]
  },
  {
   "cell_type": "code",
   "execution_count": 1,
   "metadata": {},
   "outputs": [],
   "source": [
    "# load libraries\n",
    "library(ggplot2)\n",
    "library(readxl)"
   ]
  },
  {
   "cell_type": "code",
   "execution_count": 2,
   "metadata": {},
   "outputs": [
    {
     "ename": "ERROR",
     "evalue": "Error in read_fun(path = path, sheet = sheet, limits = limits, shim = shim, : Expecting a single string value: [type=integer; extent=1].\n",
     "output_type": "error",
     "traceback": [
      "Error in read_fun(path = path, sheet = sheet, limits = limits, shim = shim, : Expecting a single string value: [type=integer; extent=1].\nTraceback:\n",
      "1. readxl::read_xlsx(url(\"https://doi.org/10.1371/journal.pone.0177924.s001\"))",
      "2. read_excel_(path = path, sheet = sheet, range = range, col_names = col_names, \n .     col_types = col_types, na = na, skip = skip, n_max = n_max, \n .     guess_max = guess_max, format = \"xlsx\")",
      "3. tibble::repair_names(tibble::as_tibble(read_fun(path = path, \n .     sheet = sheet, limits = limits, shim = shim, col_names = col_names, \n .     col_types = col_types, na = na, trim_ws = trim_ws, guess_max = guess_max), \n .     validate = FALSE), prefix = \"X\", sep = \"__\")",
      "4. tibble::as_tibble(read_fun(path = path, sheet = sheet, limits = limits, \n .     shim = shim, col_names = col_names, col_types = col_types, \n .     na = na, trim_ws = trim_ws, guess_max = guess_max), validate = FALSE)",
      "5. read_fun(path = path, sheet = sheet, limits = limits, shim = shim, \n .     col_names = col_names, col_types = col_types, na = na, trim_ws = trim_ws, \n .     guess_max = guess_max)"
     ]
    }
   ],
   "source": [
    "data = readxl::read_xlsx(url(\"https://doi.org/10.1371/journal.pone.0177924.s001\"))"
   ]
  },
  {
   "cell_type": "code",
   "execution_count": null,
   "metadata": {},
   "outputs": [],
   "source": [
    "#make graph A\n",
    "ggplot(data, aes(x = drsmem , y = post_cing_suvr)) +\n",
    "  geom_point() +\n",
    "  coord_cartesian(ylim= c(.6,2)) +\n",
    "  scale_x_discrete(\"Memory DRS-2 Score\",limits = c(15,20,25)) +\n",
    "  scale_y_discrete(\"Posterior Cingulate ROI SUVr\",expand = c(0,0), limits = seq(.6,1.8,.3)) +\n",
    "  theme(panel.grid.major = element_blank(), panel.grid.minor = element_blank(),\n",
    "        panel.background = element_blank(), axis.line = element_line(colour = \"black\"))\n"
   ]
  },
  {
   "cell_type": "code",
   "execution_count": null,
   "metadata": {},
   "outputs": [],
   "source": [
    "#make graph B"
   ]
  },
  {
   "cell_type": "code",
   "execution_count": null,
   "metadata": {},
   "outputs": [],
   "source": [
    "ggplot(data, aes(x = hvl_total_recall , y = post_cing_suvr)) +\n",
    "  geom_point() +\n",
    "  coord_cartesian(ylim= c(.6,2)) +\n",
    "  scale_x_discrete(\"Hopkins Verbal Learning Score\",limits = c(15,20,25)) +\n",
    "  scale_y_discrete(\"Posterior Cingulate ROI SUVr\",expand = c(0,0), limits = seq(.6,1.8,.3)) +\n",
    "  theme(panel.grid.major = element_blank(), panel.grid.minor = element_blank(),\n",
    "        panel.background = element_blank(), axis.line = element_line(colour = \"black\"))\n"
   ]
  },
  {
   "cell_type": "code",
   "execution_count": null,
   "metadata": {},
   "outputs": [],
   "source": []
  }
 ],
 "metadata": {
  "kernelspec": {
   "display_name": "R",
   "language": "R",
   "name": "ir"
  },
  "language_info": {
   "codemirror_mode": "r",
   "file_extension": ".r",
   "mimetype": "text/x-r-source",
   "name": "R",
   "pygments_lexer": "r",
   "version": "3.4.4"
  }
 },
 "nbformat": 4,
 "nbformat_minor": 2
}
